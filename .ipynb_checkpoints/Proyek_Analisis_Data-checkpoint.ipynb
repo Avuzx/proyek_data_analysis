{
 "cells": [
  {
   "cell_type": "markdown",
   "metadata": {
    "id": "H9wADwK78DCz"
   },
   "source": [
    "# Proyek Analisis Data: Bike Sharing Dataset\n",
    "- **Nama:** Muhammad Naufal Nugroho\n",
    "- **Email:** naufalnugroho1@gmail.com\n",
    "- **ID Dicoding:** avuz123"
   ]
  },
  {
   "cell_type": "markdown",
   "metadata": {
    "id": "eE0raob58DC0"
   },
   "source": [
    "## Menentukan Pertanyaan Bisnis"
   ]
  },
  {
   "cell_type": "markdown",
   "metadata": {
    "id": "GmQeQ5YF8DC0"
   },
   "source": [
    "1.Bulan Dengan Jumlah Pengguna Sepeda Terbanyak ada pada Bulan?\n",
    "2.Musim Dengan Jumlah Perentalan terbanyak ada pada musim?\n",
    "3.Perbandingan Antara Peminjam Sepeda dengan kategori Pengguna Terdaftar Diaplikasi dengan Pengguna Tidak Terdaftar Diaplikasi?\n",
    "4.Apa penyebab terjadinya penurunan perentalan dan seberapa buruk dampaknya di bulan Sep, Okt, Nov Tahun 2012?"
   ]
  },
  {
   "cell_type": "markdown",
   "metadata": {
    "id": "H-z4QGlO8DC1"
   },
   "source": [
    "## Import Semua Packages/Library yang Digunakan"
   ]
  },
  {
   "cell_type": "code",
   "execution_count": 7,
   "metadata": {
    "id": "FVYwaObI8DC1"
   },
   "outputs": [],
   "source": [
    "import numpy as np\n",
    "import pandas as pd\n",
    "import matplotlib.pyplot as plt\n",
    "import seaborn as sns"
   ]
  },
  {
   "cell_type": "markdown",
   "metadata": {
    "id": "h_Sh51Xy8DC1"
   },
   "source": [
    "## Data Wrangling"
   ]
  },
  {
   "cell_type": "markdown",
   "metadata": {
    "id": "sXU2GBYu8DC1"
   },
   "source": [
    "### Gathering Data"
   ]
  },
  {
   "cell_type": "code",
   "execution_count": 10,
   "metadata": {
    "id": "zjCBk1BI8DC1"
   },
   "outputs": [
    {
     "ename": "FileNotFoundError",
     "evalue": "[Errno 2] No such file or directory: 'hour.csv'",
     "output_type": "error",
     "traceback": [
      "\u001b[1;31m---------------------------------------------------------------------------\u001b[0m",
      "\u001b[1;31mFileNotFoundError\u001b[0m                         Traceback (most recent call last)",
      "Cell \u001b[1;32mIn[10], line 1\u001b[0m\n\u001b[1;32m----> 1\u001b[0m hour_df \u001b[38;5;241m=\u001b[39m pd\u001b[38;5;241m.\u001b[39mread_csv(\u001b[38;5;124m'\u001b[39m\u001b[38;5;124mhour.csv\u001b[39m\u001b[38;5;124m'\u001b[39m,delimiter\u001b[38;5;241m=\u001b[39m\u001b[38;5;124m'\u001b[39m\u001b[38;5;124m,\u001b[39m\u001b[38;5;124m'\u001b[39m)\n",
      "File \u001b[1;32m~\\anaconda3\\Lib\\site-packages\\pandas\\io\\parsers\\readers.py:1026\u001b[0m, in \u001b[0;36mread_csv\u001b[1;34m(filepath_or_buffer, sep, delimiter, header, names, index_col, usecols, dtype, engine, converters, true_values, false_values, skipinitialspace, skiprows, skipfooter, nrows, na_values, keep_default_na, na_filter, verbose, skip_blank_lines, parse_dates, infer_datetime_format, keep_date_col, date_parser, date_format, dayfirst, cache_dates, iterator, chunksize, compression, thousands, decimal, lineterminator, quotechar, quoting, doublequote, escapechar, comment, encoding, encoding_errors, dialect, on_bad_lines, delim_whitespace, low_memory, memory_map, float_precision, storage_options, dtype_backend)\u001b[0m\n\u001b[0;32m   1013\u001b[0m kwds_defaults \u001b[38;5;241m=\u001b[39m _refine_defaults_read(\n\u001b[0;32m   1014\u001b[0m     dialect,\n\u001b[0;32m   1015\u001b[0m     delimiter,\n\u001b[1;32m   (...)\u001b[0m\n\u001b[0;32m   1022\u001b[0m     dtype_backend\u001b[38;5;241m=\u001b[39mdtype_backend,\n\u001b[0;32m   1023\u001b[0m )\n\u001b[0;32m   1024\u001b[0m kwds\u001b[38;5;241m.\u001b[39mupdate(kwds_defaults)\n\u001b[1;32m-> 1026\u001b[0m \u001b[38;5;28;01mreturn\u001b[39;00m _read(filepath_or_buffer, kwds)\n",
      "File \u001b[1;32m~\\anaconda3\\Lib\\site-packages\\pandas\\io\\parsers\\readers.py:620\u001b[0m, in \u001b[0;36m_read\u001b[1;34m(filepath_or_buffer, kwds)\u001b[0m\n\u001b[0;32m    617\u001b[0m _validate_names(kwds\u001b[38;5;241m.\u001b[39mget(\u001b[38;5;124m\"\u001b[39m\u001b[38;5;124mnames\u001b[39m\u001b[38;5;124m\"\u001b[39m, \u001b[38;5;28;01mNone\u001b[39;00m))\n\u001b[0;32m    619\u001b[0m \u001b[38;5;66;03m# Create the parser.\u001b[39;00m\n\u001b[1;32m--> 620\u001b[0m parser \u001b[38;5;241m=\u001b[39m TextFileReader(filepath_or_buffer, \u001b[38;5;241m*\u001b[39m\u001b[38;5;241m*\u001b[39mkwds)\n\u001b[0;32m    622\u001b[0m \u001b[38;5;28;01mif\u001b[39;00m chunksize \u001b[38;5;129;01mor\u001b[39;00m iterator:\n\u001b[0;32m    623\u001b[0m     \u001b[38;5;28;01mreturn\u001b[39;00m parser\n",
      "File \u001b[1;32m~\\anaconda3\\Lib\\site-packages\\pandas\\io\\parsers\\readers.py:1620\u001b[0m, in \u001b[0;36mTextFileReader.__init__\u001b[1;34m(self, f, engine, **kwds)\u001b[0m\n\u001b[0;32m   1617\u001b[0m     \u001b[38;5;28mself\u001b[39m\u001b[38;5;241m.\u001b[39moptions[\u001b[38;5;124m\"\u001b[39m\u001b[38;5;124mhas_index_names\u001b[39m\u001b[38;5;124m\"\u001b[39m] \u001b[38;5;241m=\u001b[39m kwds[\u001b[38;5;124m\"\u001b[39m\u001b[38;5;124mhas_index_names\u001b[39m\u001b[38;5;124m\"\u001b[39m]\n\u001b[0;32m   1619\u001b[0m \u001b[38;5;28mself\u001b[39m\u001b[38;5;241m.\u001b[39mhandles: IOHandles \u001b[38;5;241m|\u001b[39m \u001b[38;5;28;01mNone\u001b[39;00m \u001b[38;5;241m=\u001b[39m \u001b[38;5;28;01mNone\u001b[39;00m\n\u001b[1;32m-> 1620\u001b[0m \u001b[38;5;28mself\u001b[39m\u001b[38;5;241m.\u001b[39m_engine \u001b[38;5;241m=\u001b[39m \u001b[38;5;28mself\u001b[39m\u001b[38;5;241m.\u001b[39m_make_engine(f, \u001b[38;5;28mself\u001b[39m\u001b[38;5;241m.\u001b[39mengine)\n",
      "File \u001b[1;32m~\\anaconda3\\Lib\\site-packages\\pandas\\io\\parsers\\readers.py:1880\u001b[0m, in \u001b[0;36mTextFileReader._make_engine\u001b[1;34m(self, f, engine)\u001b[0m\n\u001b[0;32m   1878\u001b[0m     \u001b[38;5;28;01mif\u001b[39;00m \u001b[38;5;124m\"\u001b[39m\u001b[38;5;124mb\u001b[39m\u001b[38;5;124m\"\u001b[39m \u001b[38;5;129;01mnot\u001b[39;00m \u001b[38;5;129;01min\u001b[39;00m mode:\n\u001b[0;32m   1879\u001b[0m         mode \u001b[38;5;241m+\u001b[39m\u001b[38;5;241m=\u001b[39m \u001b[38;5;124m\"\u001b[39m\u001b[38;5;124mb\u001b[39m\u001b[38;5;124m\"\u001b[39m\n\u001b[1;32m-> 1880\u001b[0m \u001b[38;5;28mself\u001b[39m\u001b[38;5;241m.\u001b[39mhandles \u001b[38;5;241m=\u001b[39m get_handle(\n\u001b[0;32m   1881\u001b[0m     f,\n\u001b[0;32m   1882\u001b[0m     mode,\n\u001b[0;32m   1883\u001b[0m     encoding\u001b[38;5;241m=\u001b[39m\u001b[38;5;28mself\u001b[39m\u001b[38;5;241m.\u001b[39moptions\u001b[38;5;241m.\u001b[39mget(\u001b[38;5;124m\"\u001b[39m\u001b[38;5;124mencoding\u001b[39m\u001b[38;5;124m\"\u001b[39m, \u001b[38;5;28;01mNone\u001b[39;00m),\n\u001b[0;32m   1884\u001b[0m     compression\u001b[38;5;241m=\u001b[39m\u001b[38;5;28mself\u001b[39m\u001b[38;5;241m.\u001b[39moptions\u001b[38;5;241m.\u001b[39mget(\u001b[38;5;124m\"\u001b[39m\u001b[38;5;124mcompression\u001b[39m\u001b[38;5;124m\"\u001b[39m, \u001b[38;5;28;01mNone\u001b[39;00m),\n\u001b[0;32m   1885\u001b[0m     memory_map\u001b[38;5;241m=\u001b[39m\u001b[38;5;28mself\u001b[39m\u001b[38;5;241m.\u001b[39moptions\u001b[38;5;241m.\u001b[39mget(\u001b[38;5;124m\"\u001b[39m\u001b[38;5;124mmemory_map\u001b[39m\u001b[38;5;124m\"\u001b[39m, \u001b[38;5;28;01mFalse\u001b[39;00m),\n\u001b[0;32m   1886\u001b[0m     is_text\u001b[38;5;241m=\u001b[39mis_text,\n\u001b[0;32m   1887\u001b[0m     errors\u001b[38;5;241m=\u001b[39m\u001b[38;5;28mself\u001b[39m\u001b[38;5;241m.\u001b[39moptions\u001b[38;5;241m.\u001b[39mget(\u001b[38;5;124m\"\u001b[39m\u001b[38;5;124mencoding_errors\u001b[39m\u001b[38;5;124m\"\u001b[39m, \u001b[38;5;124m\"\u001b[39m\u001b[38;5;124mstrict\u001b[39m\u001b[38;5;124m\"\u001b[39m),\n\u001b[0;32m   1888\u001b[0m     storage_options\u001b[38;5;241m=\u001b[39m\u001b[38;5;28mself\u001b[39m\u001b[38;5;241m.\u001b[39moptions\u001b[38;5;241m.\u001b[39mget(\u001b[38;5;124m\"\u001b[39m\u001b[38;5;124mstorage_options\u001b[39m\u001b[38;5;124m\"\u001b[39m, \u001b[38;5;28;01mNone\u001b[39;00m),\n\u001b[0;32m   1889\u001b[0m )\n\u001b[0;32m   1890\u001b[0m \u001b[38;5;28;01massert\u001b[39;00m \u001b[38;5;28mself\u001b[39m\u001b[38;5;241m.\u001b[39mhandles \u001b[38;5;129;01mis\u001b[39;00m \u001b[38;5;129;01mnot\u001b[39;00m \u001b[38;5;28;01mNone\u001b[39;00m\n\u001b[0;32m   1891\u001b[0m f \u001b[38;5;241m=\u001b[39m \u001b[38;5;28mself\u001b[39m\u001b[38;5;241m.\u001b[39mhandles\u001b[38;5;241m.\u001b[39mhandle\n",
      "File \u001b[1;32m~\\anaconda3\\Lib\\site-packages\\pandas\\io\\common.py:873\u001b[0m, in \u001b[0;36mget_handle\u001b[1;34m(path_or_buf, mode, encoding, compression, memory_map, is_text, errors, storage_options)\u001b[0m\n\u001b[0;32m    868\u001b[0m \u001b[38;5;28;01melif\u001b[39;00m \u001b[38;5;28misinstance\u001b[39m(handle, \u001b[38;5;28mstr\u001b[39m):\n\u001b[0;32m    869\u001b[0m     \u001b[38;5;66;03m# Check whether the filename is to be opened in binary mode.\u001b[39;00m\n\u001b[0;32m    870\u001b[0m     \u001b[38;5;66;03m# Binary mode does not support 'encoding' and 'newline'.\u001b[39;00m\n\u001b[0;32m    871\u001b[0m     \u001b[38;5;28;01mif\u001b[39;00m ioargs\u001b[38;5;241m.\u001b[39mencoding \u001b[38;5;129;01mand\u001b[39;00m \u001b[38;5;124m\"\u001b[39m\u001b[38;5;124mb\u001b[39m\u001b[38;5;124m\"\u001b[39m \u001b[38;5;129;01mnot\u001b[39;00m \u001b[38;5;129;01min\u001b[39;00m ioargs\u001b[38;5;241m.\u001b[39mmode:\n\u001b[0;32m    872\u001b[0m         \u001b[38;5;66;03m# Encoding\u001b[39;00m\n\u001b[1;32m--> 873\u001b[0m         handle \u001b[38;5;241m=\u001b[39m \u001b[38;5;28mopen\u001b[39m(\n\u001b[0;32m    874\u001b[0m             handle,\n\u001b[0;32m    875\u001b[0m             ioargs\u001b[38;5;241m.\u001b[39mmode,\n\u001b[0;32m    876\u001b[0m             encoding\u001b[38;5;241m=\u001b[39mioargs\u001b[38;5;241m.\u001b[39mencoding,\n\u001b[0;32m    877\u001b[0m             errors\u001b[38;5;241m=\u001b[39merrors,\n\u001b[0;32m    878\u001b[0m             newline\u001b[38;5;241m=\u001b[39m\u001b[38;5;124m\"\u001b[39m\u001b[38;5;124m\"\u001b[39m,\n\u001b[0;32m    879\u001b[0m         )\n\u001b[0;32m    880\u001b[0m     \u001b[38;5;28;01melse\u001b[39;00m:\n\u001b[0;32m    881\u001b[0m         \u001b[38;5;66;03m# Binary mode\u001b[39;00m\n\u001b[0;32m    882\u001b[0m         handle \u001b[38;5;241m=\u001b[39m \u001b[38;5;28mopen\u001b[39m(handle, ioargs\u001b[38;5;241m.\u001b[39mmode)\n",
      "\u001b[1;31mFileNotFoundError\u001b[0m: [Errno 2] No such file or directory: 'hour.csv'"
     ]
    }
   ],
   "source": [
    "hour_df = pd.read_csv('Data/hour.csv',delimiter=',')"
   ]
  },
  {
   "cell_type": "code",
   "execution_count": null,
   "metadata": {},
   "outputs": [],
   "source": [
    "day_df = pd.read_csv('Data/day.csv',delimiter=',')"
   ]
  },
  {
   "cell_type": "code",
   "execution_count": null,
   "metadata": {},
   "outputs": [],
   "source": [
    "mixed_df = pd.merge(\n",
    "     left=day_df,\n",
    "     right=hour_df,\n",
    "     how=\"outer\",\n",
    "     left_on=\"dteday\",\n",
    "     right_on=\"dteday\")"
   ]
  },
  {
   "cell_type": "markdown",
   "metadata": {
    "id": "FHSiqaZp8DC1"
   },
   "source": [
    "### Assessing Data"
   ]
  },
  {
   "cell_type": "code",
   "execution_count": null,
   "metadata": {
    "id": "ax-3tEjc9Cj1"
   },
   "outputs": [],
   "source": [
    "hour_df['yr'] = hour_df['yr'].apply(lambda x: 2011 if x == 0 else 2012)"
   ]
  },
  {
   "cell_type": "code",
   "execution_count": null,
   "metadata": {},
   "outputs": [],
   "source": [
    "season = [\"Spring\", \"Summer\", \"Fall\", \"Winter\"]\n",
    "hour_df['season'] = hour_df['season'].apply(\n",
    "    lambda x: \"Spring\" if x == 1 else \"Summer\" if x == 2 else \"Fall\" if x == 3 \n",
    "    else \"Winter\")\n",
    "hour_df['season'] = pd.Categorical(hour_df['season'], categories=season, ordered=True)\n",
    "hour_df.sort_values(by=\"season\",inplace=True)"
   ]
  },
  {
   "cell_type": "code",
   "execution_count": null,
   "metadata": {},
   "outputs": [],
   "source": [
    "months = [\"Jan\", \"Feb\", \"Mar\", \"Apr\", \"May\", \"Jun\", \"Jul\", \"Aug\", \"Sep\", \"Oct\", \"Nov\", \"Dec\"]\n",
    "hour_df['mnth'] = hour_df['mnth'].apply(\n",
    "    lambda x: \"Jan\" if x == 1 else \"Feb\" if x == 2 else \"Mar\" if x == 3 \n",
    "    else \"Apr\" if x == 4 else \"May\" if x == 5 else \"Jun\" if x == 6 \n",
    "    else \"Jul\" if x == 7 else \"Aug\" if x == 8 else \"Sep\" if x == 9\n",
    "    else \"Oct\" if x == 10 else \"Nov\" if x == 11 else \"Dec\")\n",
    "hour_df['mnth'] = pd.Categorical(hour_df['mnth'], categories=months, ordered=True)\n",
    "hour_df.sort_values(by=\"mnth\",inplace=True)"
   ]
  },
  {
   "cell_type": "code",
   "execution_count": null,
   "metadata": {},
   "outputs": [],
   "source": [
    "hour_df['dteday'] = hour_df['dteday'].apply(lambda x: x.split('-')[2])\n",
    "hour_df.sort_values(by=\"dteday\",inplace=True)"
   ]
  },
  {
   "cell_type": "markdown",
   "metadata": {
    "id": "EhN5R4hr8DC1"
   },
   "source": [
    "### Cleaning Data"
   ]
  },
  {
   "cell_type": "code",
   "execution_count": null,
   "metadata": {
    "id": "jVnYpprE9Evz"
   },
   "outputs": [],
   "source": [
    "hour_df.isnull().sum()"
   ]
  },
  {
   "cell_type": "code",
   "execution_count": null,
   "metadata": {},
   "outputs": [],
   "source": [
    "hour_df.duplicated().sum()"
   ]
  },
  {
   "cell_type": "code",
   "execution_count": null,
   "metadata": {},
   "outputs": [],
   "source": [
    "day_df.isnull().sum()"
   ]
  },
  {
   "cell_type": "code",
   "execution_count": null,
   "metadata": {},
   "outputs": [],
   "source": [
    "day_df.duplicated().sum()"
   ]
  },
  {
   "cell_type": "code",
   "execution_count": null,
   "metadata": {},
   "outputs": [],
   "source": [
    "#Data Sudah Bersih."
   ]
  },
  {
   "cell_type": "markdown",
   "metadata": {
    "id": "gp-Y6wU38DC1"
   },
   "source": [
    "## Exploratory Data Analysis (EDA)"
   ]
  },
  {
   "cell_type": "markdown",
   "metadata": {
    "id": "MW7WF2kr8DC1"
   },
   "source": [
    "### Explore ..."
   ]
  },
  {
   "cell_type": "code",
   "execution_count": null,
   "metadata": {
    "id": "e9CQCZjk8DC2"
   },
   "outputs": [],
   "source": [
    "hour_df.describe(include=\"all\")"
   ]
  },
  {
   "cell_type": "code",
   "execution_count": null,
   "metadata": {},
   "outputs": [],
   "source": [
    "day_df.describe(include=\"all\")"
   ]
  },
  {
   "cell_type": "code",
   "execution_count": null,
   "metadata": {},
   "outputs": [],
   "source": [
    "hour_df.sample(10)"
   ]
  },
  {
   "cell_type": "code",
   "execution_count": null,
   "metadata": {},
   "outputs": [],
   "source": [
    "day_df.sample(10)"
   ]
  },
  {
   "cell_type": "code",
   "execution_count": null,
   "metadata": {},
   "outputs": [],
   "source": [
    "hour_df.groupby(by=[\"yr\", \"season\"], observed=False).agg({\"casual\": \"sum\",\"registered\":\"sum\",\"cnt\":\"sum\"})"
   ]
  },
  {
   "cell_type": "code",
   "execution_count": null,
   "metadata": {},
   "outputs": [],
   "source": [
    "hour_df.groupby(by=[\"yr\", \"mnth\"], observed=False).agg({\"casual\": \"sum\",\"registered\": \"sum\",\"cnt\":  \"sum\"})"
   ]
  },
  {
   "cell_type": "code",
   "execution_count": null,
   "metadata": {},
   "outputs": [],
   "source": [
    "day_df.groupby(by=[\"yr\", \"season\"], observed=False).agg({\"casual\": \"sum\",\"registered\": \"sum\",\"cnt\":  \"sum\"})"
   ]
  },
  {
   "cell_type": "code",
   "execution_count": null,
   "metadata": {},
   "outputs": [],
   "source": [
    "day_df.groupby(by=[\"yr\", \"mnth\"], observed=False).agg({\"casual\": \"sum\",\"registered\": \"sum\",\"cnt\":  \"sum\"})"
   ]
  },
  {
   "cell_type": "markdown",
   "metadata": {
    "id": "zsyZjqak8DC2"
   },
   "source": [
    "## Visualization & Explanatory Analysis"
   ]
  },
  {
   "cell_type": "markdown",
   "metadata": {
    "id": "HZxOiQ6n8DC2"
   },
   "source": [
    "### Pertanyaan 1:"
   ]
  },
  {
   "cell_type": "markdown",
   "metadata": {
    "id": "1swJUdAD8DC2"
   },
   "source": [
    "Pertanyaan 1 Bulan Dengan Jumlah Pengguna Sepeda Terbanyak ada pada Bulan?"
   ]
  },
  {
   "cell_type": "code",
   "execution_count": null,
   "metadata": {},
   "outputs": [],
   "source": [
    "table = hour_df.rename(columns={'yr' : 'Year', 'season' : 'Season', 'casual' : 'Pengguna Tidak Terdaftar', 'registered' : 'Pengguna Terdaftar', 'cnt' : 'Total', 'dteday' : 'Day', 'mnth' : 'Month' })"
   ]
  },
  {
   "cell_type": "code",
   "execution_count": null,
   "metadata": {},
   "outputs": [],
   "source": [
    "day_df.groupby(by=[\"yr\", \"mnth\"], observed=False).agg({\"casual\": \"sum\",\"registered\": \"sum\",\"cnt\":  \"sum\"})"
   ]
  },
  {
   "cell_type": "code",
   "execution_count": null,
   "metadata": {},
   "outputs": [],
   "source": [
    "fig, ax = plt.subplots(nrows=1, ncols=2, figsize=(20, 6))\n",
    "colors = [\"#FFB4C2\", \"#9DBDFF\", \"#a2c4c9\",\"#72BCD4\",\"#e06666\",\"#9fc5e8\", \"#FF9874\",\"#cfe2f3\",\"#d9d2e9\"]\n",
    "mask_2011 = table['Year'].values == 2011\n",
    "total_2011 = table[mask_2011]\n",
    "total_2011 = total_2011.groupby(by=\"Month\", observed=False).agg({\"Total\":  \"sum\"})\n",
    "mask_2012 = table['Year'].values == 2012\n",
    "total_2012 = table[mask_2012]\n",
    "total_2012 = total_2012.groupby(by=\"Month\", observed=False).agg({\"Total\":  \"sum\"})\n",
    "sns.barplot(y=\"Total\", x=\"Month\", data=total_2011, hue=\"Total\", palette=colors, ax=ax[0])\n",
    "ax[0].set_ylabel(None)\n",
    "ax[0].set_xlabel(None)\n",
    "ax[0].set_title(\"Bulan 2011\", loc=\"center\", fontsize=18)\n",
    "ax[0].set_ylim(0, 700000)\n",
    "ax[0].tick_params(axis ='x', labelsize=15)\n",
    "sns.barplot(y=\"Total\", x=\"Month\", data=total_2012, hue=\"Total\", palette=colors, ax=ax[1])\n",
    "ax[1].set_ylabel(None)\n",
    "ax[1].set_xlabel(None)\n",
    "ax[1].set_title(\"Bulan 2012\", loc=\"center\", fontsize=18)\n",
    "ax[1].set_ylim(0, 700000)\n",
    "ax[1].tick_params(axis ='x', labelsize=15)\n",
    "plt.suptitle(\"Total Peminjaman Berdasarkan Bulan\", fontsize=20)\n",
    "plt.show()"
   ]
  },
  {
   "cell_type": "markdown",
   "metadata": {},
   "source": [
    "Berdasarkan data yang telah diperoleh dan diolah dengan barchart, maka bulan dengan peminjam sepeda terbanyak jatuh pada bulan Juni 2011 dengan sebanyak 143.512 dan untuk di tahun 2012 adalah pada bulan September sebanyak 218.573."
   ]
  },
  {
   "cell_type": "markdown",
   "metadata": {
    "id": "DgHI7CiU8DC2"
   },
   "source": [
    "### Pertanyaan 2:"
   ]
  },
  {
   "cell_type": "markdown",
   "metadata": {},
   "source": [
    "Musim Dengan Jumlah Perentalan terbanyak ada pada musim?"
   ]
  },
  {
   "cell_type": "code",
   "execution_count": null,
   "metadata": {
    "id": "Go0lCsvO8DC2"
   },
   "outputs": [],
   "source": [
    "table.groupby(by=[\"Year\", \"Season\"], observed=False).agg({\"Total\":  \"sum\"})"
   ]
  },
  {
   "cell_type": "code",
   "execution_count": null,
   "metadata": {
    "scrolled": true
   },
   "outputs": [],
   "source": [
    "fig, ax = plt.subplots(nrows=1, ncols=2, figsize=(20, 6))\n",
    "colors = [\"#FFB4C2\", \"#9DBDFF\", \"#a2c4c9\",\"#72BCD4\"]\n",
    "years_2011 = table['Year'].values == 2011\n",
    "total_2011 = table[mask_2011]\n",
    "total_2011 = total_2011.groupby(by=\"Season\", observed=False).agg({\"Total\":  \"sum\"})\n",
    "years_2012 = table['Year'].values == 2012\n",
    "total_2012 = table[mask_2012]\n",
    "total_2012 = total_2012.groupby(by=\"Season\", observed=False).agg({\"Total\":  \"sum\"})\n",
    "sns.barplot(y=\"Total\", x=\"Season\", data=total_2011, hue=\"Total\", palette=colors, ax=ax[0])\n",
    "ax[0].set_ylabel(None)\n",
    "ax[0].set_xlabel(None)\n",
    "ax[0].set_title(\"By Season (2011)\", loc=\"center\", fontsize=18)\n",
    "ax[0].set_ylim(0, 700000)\n",
    "ax[0].tick_params(axis ='x', labelsize=15)\n",
    "sns.barplot(y=\"Total\", x=\"Season\", data=total_2012, hue=\"Total\", palette=colors, ax=ax[1])\n",
    "ax[1].set_ylabel(None)\n",
    "ax[1].set_xlabel(None)\n",
    "ax[1].set_title(\"By Season (2012)\", loc=\"center\", fontsize=18)\n",
    "ax[1].set_ylim(0, 700000)\n",
    "ax[1].tick_params(axis ='x', labelsize=15)\n",
    "plt.suptitle(\"Total Peminjaman Berdasarkan Musim\", fontsize=20)\n",
    "plt.show()"
   ]
  },
  {
   "cell_type": "markdown",
   "metadata": {},
   "source": [
    "Berdasarkan data yang telah diperoleh dan diolah dengan barchart, maka musim dengan peminjam sepeda terbanyak jatuh pada Musim Gugur dimana terdapat sebanyak 419.650 pada tahun 2011 dan 571.273 pada tahun 2012"
   ]
  },
  {
   "cell_type": "markdown",
   "metadata": {
    "id": "DgHI7CiU8DC2"
   },
   "source": [
    "### Pertanyaan 3:"
   ]
  },
  {
   "cell_type": "markdown",
   "metadata": {},
   "source": [
    "Perbandingan Antara Peminjam Sepeda dengan kategori Pengguna Terdaftar Diaplikasi dengan Pengguna Tidak Terdaftar Diaplikasi?"
   ]
  },
  {
   "cell_type": "markdown",
   "metadata": {},
   "source": [
    "Untuk mempermudah visualisasi data, dengan mengkategorikan data berdasarkan Tahun, dan Bulan. berikut adalah hasil dari perbandingan antara peminjam 'Pengguna Tidak Terdaftar' dan peminjam 'Pengguna Terdaftar' pada bisnis \"Bike Sharing\":"
   ]
  },
  {
   "cell_type": "code",
   "execution_count": null,
   "metadata": {},
   "outputs": [],
   "source": [
    "data_compare = table.groupby(by=[\"Year\", \"Month\"], observed=False).agg({'Pengguna Tidak Terdaftar' : 'sum','Pengguna Terdaftar' : 'sum','Total':  'sum',})\n",
    "data_compare[\"difference\"] = data_compare[\"Pengguna Terdaftar\"] - data_compare[\"Pengguna Tidak Terdaftar\"]\n",
    "data_compare[\"diff_percent\"] = round(data_compare[\"difference\"] / data_compare[\"Total\"] * 100, 2)\n",
    "data_compare"
   ]
  },
  {
   "cell_type": "markdown",
   "metadata": {},
   "source": [
    "Karena selisih peminjam antara kedua jenis pengguna sangat bervariasi, kita hitung rata-ratanya agar lebih mudah dipahami. Berikut adalah rata-rata selisih tersebut:"
   ]
  },
  {
   "cell_type": "code",
   "execution_count": null,
   "metadata": {},
   "outputs": [],
   "source": [
    "round(data_compare.diff_percent.mean(), 2)"
   ]
  },
  {
   "cell_type": "markdown",
   "metadata": {},
   "source": [
    "berdasarkan hasil diatas diketahuai rata rata yang didapat adalah 64.4% antara peminjam 'Pengguna Tidak Terdaftar' dan peminjam 'Pengguna Terdaftar'"
   ]
  },
  {
   "cell_type": "code",
   "execution_count": null,
   "metadata": {},
   "outputs": [],
   "source": [
    "years_2011 = table['Year'].values == 2011\n",
    "user_2011 = table[years_2011]\n",
    "user_2011 = user_2011.groupby(by=\"Month\", observed=False).agg({'Pengguna Tidak Terdaftar' : 'sum','Pengguna Terdaftar' : 'sum','Total':  'sum',})\n",
    "years_2012 = table['Year'].values == 2012\n",
    "user_2012 = table[years_2012]\n",
    "user_2012 = user_2012.groupby(by=\"Month\", observed=False).agg({'Pengguna Tidak Terdaftar' : 'sum','Pengguna Terdaftar' : 'sum','Total':  'sum',})\n",
    "fig, ax = plt.subplots(nrows=1, ncols=2, figsize=(20, 6))\n",
    "ax[0].plot(months, user_2011['Pengguna Terdaftar'], label='Pengguna Terdaftar', marker=\"o\", color='#72BCD4', figure=fig)\n",
    "ax[0].plot(months, user_2011['Pengguna Tidak Terdaftar'], label='Pengguna Tidak Terdaftar', marker=\"*\", color='#e06666', figure=fig)\n",
    "ax[0].set_title(\"2011\", loc=\"center\", fontsize=20)\n",
    "ax[0].set_ylim(0, 200000)\n",
    "ax[0].legend()\n",
    "ax[1].plot(months, user_2012['Pengguna Terdaftar'], label='Registered User', marker=\"o\", color='#72BCD4', figure=fig)\n",
    "ax[1].plot(months, user_2012['Pengguna Tidak Terdaftar'], label='Pengguna Tidak Terdaftar', marker=\"*\", color='#e06666', figure=fig)\n",
    "ax[1].set_title(\"2012\", loc=\"center\", fontsize=20)\n",
    "ax[1].set_ylim(0, 200000)\n",
    "ax[1].legend()\n",
    "plt.suptitle(\"Rental Perbulan\", fontsize=20)\n",
    "plt.show()"
   ]
  },
  {
   "cell_type": "markdown",
   "metadata": {
    "id": "DgHI7CiU8DC2"
   },
   "source": [
    "### Pertanyaan 4:"
   ]
  },
  {
   "cell_type": "markdown",
   "metadata": {},
   "source": [
    "Apa penyebab terjadinya penurunan perentalan dan seberapa buruk dampaknya di bulan Sep, Okt, Nov Tahun 2012?"
   ]
  },
  {
   "cell_type": "markdown",
   "metadata": {},
   "source": [
    "Pada tanggal 29 Oktober 2012 terjadilah sebuah bencana alam yang bernama Hurricane Sandy, yang memiliki dampak yang buruk pada perekonomian USA, hal ini juga merambat pada bisnis Bike Sharing ,Data menunjukkan dampak Badai Sandy terhadap bisnis penyewaan sepeda, khususnya pada kategori 'Day'. Dampaknya divisualisasikan dalam tabel dan grafik:"
   ]
  },
  {
   "cell_type": "code",
   "execution_count": null,
   "metadata": {},
   "outputs": [],
   "source": [
    "years_2012 = table['Year'].values == 2012\n",
    "data_2012 = table[years_2012]\n",
    "month_sep = data_2012['Month'].values == 'Sep'\n",
    "data_sep = data_2012[month_sep]\n",
    "month_oct = data_2012['Month'].values == 'Oct'\n",
    "data_oct = data_2012[month_oct]\n",
    "month_nov = data_2012['Month'].values == 'Nov'\n",
    "data_nov = data_2012[month_nov]\n",
    "data_sep = data_sep.groupby(by=\"Day\", observed=True).agg({'Day': 'unique','Total':  'sum'})\n",
    "data_oct = data_oct.groupby(by=\"Day\", observed=True).agg({'Day': 'unique','Total':  'sum'})\n",
    "data_nov = data_nov.groupby(by=\"Day\", observed=True).agg({'Day': 'unique','Total':  'sum'})\n",
    "data_merge = data_oct\n",
    "data_merge['Sep'] = data_sep['Total']\n",
    "data_merge['Oct'] = data_oct['Total']\n",
    "data_merge['Nov'] = data_nov['Total']\n",
    "data_merge"
   ]
  },
  {
   "cell_type": "code",
   "execution_count": null,
   "metadata": {},
   "outputs": [],
   "source": [
    "plt.figure(figsize=(12, 6))\n",
    "plt.plot(data_sep['Day'], data_sep['Total'], marker=\"o\", label='Sep', color='#FFB4C2')\n",
    "plt.plot(data_oct['Day'], data_oct['Total'], marker=\"*\", label='Oct', color='#9DBDFF')\n",
    "plt.plot(data_nov['Day'], data_nov['Total'], marker=\"s\", label='Nov', color='#a2c4c9')\n",
    "plt.title('Perentalan Sepeda Pada Bulan Sep, Okt, Nov Tahun 2012', size=18)\n",
    "plt.xlabel('Tanggal',size=15)\n",
    "plt.ylabel('Perentalan',size=15)\n",
    "plt.xticks(np.arange(1, 32, 1))\n",
    "plt.yticks(np.arange(0, 10000, 1000))\n",
    "plt.ylim(0, 10000)\n",
    "plt.xlim(0, 31)\n",
    "plt.legend()\n",
    "plt.show()"
   ]
  },
  {
   "cell_type": "markdown",
   "metadata": {},
   "source": [
    "Bisnis penyewaan sepeda mengalami penurunan drastis saat Badai Sandy (29-30 Oktober 2012), tetapi berhasil pulih dengan cepat."
   ]
  },
  {
   "cell_type": "markdown",
   "metadata": {
    "id": "9y4VUsmcYNZ5"
   },
   "source": [
    "## Analisis Lanjutan (Opsional)"
   ]
  },
  {
   "cell_type": "code",
   "execution_count": null,
   "metadata": {
    "id": "iWhnzsJGYUCO"
   },
   "outputs": [],
   "source": []
  },
  {
   "cell_type": "markdown",
   "metadata": {
    "id": "_WeHlCeX8DC2"
   },
   "source": [
    "## Conclusion"
   ]
  },
  {
   "cell_type": "markdown",
   "metadata": {
    "id": "ZTcyR48Y8DC2"
   },
   "source": [
    "1.Bulan Dengan Jumlah Pengguna Sepeda Terbanyak ada pada Bulan?\n",
    "Berdasarkan data yang telah diperoleh dan diolah dengan barchart, maka bulan dengan peminjam sepeda terbanyak jatuh pada bulan Juni 2011 dengan\n",
    "sebanyak 143.512 dan untuk di tahun 2012 adalah pada bulan September sebanyak 218.573.\n",
    "\n",
    "2.Musim Dengan Jumlah Perentalan terbanyak ada pada musim?\n",
    "Berdasarkan data yang telah diperoleh dan diolah dengan barchart, maka musim dengan peminjam sepeda terbanyak jatuh pada Musim Gugur dimana terdapat sebanyak 419.650 pada tahun 2011 dan 571.273 pada tahun 2012\n",
    "\n",
    "3.Perbandingan Antara Peminjam Sepeda dengan kategori Pengguna Terdaftar Diaplikasi dengan Pengguna Tidak Terdaftar Diaplikasi?\n",
    "rata rata yang didapat adalah 64.4% antara peminjam 'Pengguna Tidak Terdaftar' dan peminjam 'Pengguna Terdaftar'\n",
    "\n",
    "4.Apa penyebab terjadinya penurunan perentalan dan seberapa buruk dampaknya di bulan Sep, Okt, Nov Tahun 2012?\n",
    "Bisnis penyewaan sepeda mengalami penurunan drastis saat Badai Sandy (29-30 Oktober 2012), tetapi berhasil pulih dengan cepat."
   ]
  }
 ],
 "metadata": {
  "colab": {
   "provenance": []
  },
  "kernelspec": {
   "display_name": "Python [conda env:base] *",
   "language": "python",
   "name": "conda-base-py"
  },
  "language_info": {
   "codemirror_mode": {
    "name": "ipython",
    "version": 3
   },
   "file_extension": ".py",
   "mimetype": "text/x-python",
   "name": "python",
   "nbconvert_exporter": "python",
   "pygments_lexer": "ipython3",
   "version": "3.12.7"
  },
  "vscode": {
   "interpreter": {
    "hash": "972b3bf27e332e87b5379f2791f6ef9dfc79c71018c370b0d7423235e20fe4d7"
   }
  }
 },
 "nbformat": 4,
 "nbformat_minor": 4
}
